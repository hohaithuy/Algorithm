{
 "metadata": {
  "language_info": {
   "codemirror_mode": {
    "name": "ipython",
    "version": 3
   },
   "file_extension": ".py",
   "mimetype": "text/x-python",
   "name": "python",
   "nbconvert_exporter": "python",
   "pygments_lexer": "ipython3",
   "version": "3.8.5-final"
  },
  "orig_nbformat": 2,
  "kernelspec": {
   "name": "Python 3.8.5 64-bit",
   "display_name": "Python 3.8.5 64-bit",
   "metadata": {
    "interpreter": {
     "hash": "082e9a3bcad0a290d0001e938aa60b99250c6c2ef33a923c00b70f9826caf4b7"
    }
   }
  }
 },
 "nbformat": 4,
 "nbformat_minor": 2,
 "cells": [
  {
   "cell_type": "code",
   "execution_count": 1,
   "metadata": {},
   "outputs": [
    {
     "output_type": "stream",
     "name": "stdout",
     "text": [
      "37926 10\n"
     ]
    }
   ],
   "source": [
    "#Dem tien\n",
    "n = int(input())\n",
    "min = 0\n",
    "count = 0\n",
    "for i in range (int(n / 500000) + 1):\n",
    "  for j in range (int((n - i * 500000) / 200000) + 1):\n",
    "    for k in range (int((n - (i * 500000 + j * 200000)) / 100000) + 1):\n",
    "      for l in range (int((n - (i * 500000 + j * 200000 + k * 100000)) / 50000) + 1):\n",
    "        sotien = n - (i * 500000 + j * 200000 + k * 100000 +  l * 50000)\n",
    "        m = int(sotien / 20000)\n",
    "        if m * 20000 + i * 500000 + j * 200000 + k * 100000 +  l * 50000 == n:\n",
    "          count += 1\n",
    "          if(min == 0):\n",
    "            min = i + j + k + l + m\n",
    "          if(i + j + k + l < min):\n",
    "            min = i + j + k + l + m\n",
    "print(count, min)\n"
   ]
  },
  {
   "cell_type": "code",
   "execution_count": null,
   "metadata": {},
   "outputs": [],
   "source": [
    "#Sum of three cubes\n",
    "k = int(input())\n",
    "if k % 9 == 4 or k % 9 == 5:\n",
    "  print(0, 0, 0)\n",
    "if pow(int(k ** (1/3)), 3) == k:\n",
    "  print(int(k ** (1/3)), 0 , 0)"
   ]
  },
  {
   "cell_type": "code",
   "execution_count": null,
   "metadata": {},
   "outputs": [],
   "source": [
    "#Goldbach conjecture\n",
    "def PrimeNumberArray(n):\n",
    "  array = []\n",
    "  for i in range (0, 2):\n",
    "    array.append(False)\n",
    "  for i in range (2, n + 1):\n",
    "    array.append(True)\n",
    "  for i in range (2, n + 1):\n",
    "    if array[i] == True:\n",
    "      j = 2 * i\n",
    "      while j <= n:\n",
    "        array[j] = False\n",
    "        j += i\n",
    "  return array\n",
    "  \n",
    "n = int(input())\n",
    "array = PrimeNumberArray(n)\n",
    "count = 0\n",
    "for i in range(int(n / 2) + 1):\n",
    "  if array[i] and array[n - i]:\n",
    "    count += 1\n",
    "\n",
    "print(count)"
   ]
  },
  {
   "cell_type": "code",
   "execution_count": 2,
   "metadata": {},
   "outputs": [
    {
     "output_type": "stream",
     "name": "stdout",
     "text": [
      "()()()()\n()()(())\n()(())()\n()(()())\n()((()))\n(())()()\n(())(())\n(()())()\n(()()())\n(()(()))\n((()))()\n((())())\n((()()))\n(((())))\n"
     ]
    }
   ],
   "source": [
    "#Dấu ngoặc \n",
    "\n",
    "def AllBracketsBalance(str, left, right):\n",
    "    if right == 0:\n",
    "        for i in str:\n",
    "            print(i, end = '')\n",
    "        print()\n",
    "    else:\n",
    "        if left < right:\n",
    "            AllBracketsBalance(str + ')', left, right - 1)\n",
    "        if left > 0:\n",
    "            AllBracketsBalance(str + '(', left - 1, right)\n",
    "        \n",
    "\n",
    "n = int(input())\n",
    "A = ''\n",
    "if n > 0:\n",
    "    AllBracketsBalance(A, n, n)\n"
   ]
  },
  {
   "cell_type": "code",
   "execution_count": null,
   "metadata": {},
   "outputs": [],
   "source": [
    "#Địa chỉ IP\n",
    "str = input()\n",
    "l = len(str)\n",
    "\n",
    "def check(str):\n",
    "  arr = str.split('.')\n",
    "  for i in arr:\n",
    "    if int(i) > 255 or (i[0] == '0' and len(i) > 1):\n",
    "      return False\n",
    "  return True\n",
    "\n",
    "def checkPossible(l, turn):\n",
    "  if l <= turn * 3 and l >= turn:\n",
    "    return True\n",
    "  return False\n",
    "  \n",
    "def maxRange(l, turn):\n",
    "  if l - turn >= 0:\n",
    "    if l - turn < 3:\n",
    "      return l - turn\n",
    "    return 3\n",
    "  return 0\n",
    "if(checkPossible(l, 4)):\n",
    "  for i in range(maxRange(l, 4) + 1):\n",
    "    if(checkPossible(l - i - 1, 3)):\n",
    "      for j in range(i + 1, i + maxRange(l - i, 3) + 1):\n",
    "        if(checkPossible(l - j - 1, 2)):\n",
    "          for k in range(j + 1, j + maxRange(l - j, 2) + 1):\n",
    "              if checkPossible(l - k - 1, 1):\n",
    "                result = str[0 : i + 1] + \".\" + str[i + 1 : j + 1] + \".\" + str[j + 1 : k + 1] + \".\" + str[k + 1 : len(str)]\n",
    "                if check(result):\n",
    "                  print(result)"
   ]
  },
  {
   "cell_type": "code",
   "execution_count": null,
   "metadata": {},
   "outputs": [],
   "source": [
    "#Chuỗi con\n",
    "\n",
    "str = input()\n",
    "allPalPartitions(str) \n",
    "\n",
    "\n",
    "def isPalindrome(string, low, high): \n",
    "\twhile low < high: \n",
    "\t\tif string[low] != string[high]: \n",
    "\t\t\treturn False\n",
    "\t\tlow += 1\n",
    "\t\thigh -= 1\n",
    "\treturn True\n",
    "\n",
    "\n",
    "def allPalPartUtil(allPart, currPart, start, n, str): \n",
    "\tif start >= n: \n",
    "\t\tx = currPart.copy()\n",
    "\t\tallPart.append(x) \n",
    "\t\treturn\n",
    "\tfor i in range(start, n): \n",
    "\t\tif isPalindrome(string, start, i): \n",
    "\t\t\tcurrPart.append(string[start:i + 1]) \n",
    "\t\t\tallPalPartUtil(allPart, currPart, i + 1, n, string) \n",
    "\t\t\tcurrPart.pop() \n",
    "\n",
    "def allPalPartitions(str): \n",
    "\tn = len(str) \n",
    "\tallPart = [] \n",
    "\tcurrPart = [] \n",
    "\tallPalPartUtil(allPart, currPart, 0, n, str) \n",
    "\tfor i in range(len(allPart)): \n",
    "\t\tfor j in range(len(allPart[i])): \n",
    "\t\t\tprint(allPart[i][j], end = \" \") \n",
    "\t\tprint() \n"
   ]
  },
  {
   "cell_type": "code",
   "execution_count": null,
   "metadata": {},
   "outputs": [],
   "source": [
    "#Nhập điểm"
   ]
  },
  {
   "cell_type": "code",
   "execution_count": null,
   "metadata": {},
   "outputs": [],
   "source": [
    "#Ô chữ\n"
   ]
  }
 ]
}