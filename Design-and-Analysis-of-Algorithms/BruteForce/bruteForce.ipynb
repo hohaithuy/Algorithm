{
 "metadata": {
  "language_info": {
   "codemirror_mode": {
    "name": "ipython",
    "version": 3
   },
   "file_extension": ".py",
   "mimetype": "text/x-python",
   "name": "python",
   "nbconvert_exporter": "python",
   "pygments_lexer": "ipython3",
   "version": "3.8.5-final"
  },
  "orig_nbformat": 2,
  "kernelspec": {
   "name": "Python 3.8.5 64-bit",
   "display_name": "Python 3.8.5 64-bit",
   "metadata": {
    "interpreter": {
     "hash": "082e9a3bcad0a290d0001e938aa60b99250c6c2ef33a923c00b70f9826caf4b7"
    }
   }
  }
 },
 "nbformat": 4,
 "nbformat_minor": 2,
 "cells": [
  {
   "cell_type": "code",
   "execution_count": 1,
   "metadata": {},
   "outputs": [
    {
     "output_type": "stream",
     "name": "stdout",
     "text": [
      "37926 10\n"
     ]
    }
   ],
   "source": [
    "#Dem tien\n",
    "n = int(input())\n",
    "min = 0\n",
    "count = 0\n",
    "for i in range (int(n / 500000) + 1):\n",
    "  for j in range (int((n - i * 500000) / 200000) + 1):\n",
    "    for k in range (int((n - (i * 500000 + j * 200000)) / 100000) + 1):\n",
    "      for l in range (int((n - (i * 500000 + j * 200000 + k * 100000)) / 50000) + 1):\n",
    "        sotien = n - (i * 500000 + j * 200000 + k * 100000 +  l * 50000)\n",
    "        m = int(sotien / 20000)\n",
    "        if m * 20000 + i * 500000 + j * 200000 + k * 100000 +  l * 50000 == n:\n",
    "          count += 1\n",
    "          if(min == 0):\n",
    "            min = i + j + k + l + m\n",
    "          if(i + j + k + l < min):\n",
    "            min = i + j + k + l + m\n",
    "print(count, min)\n"
   ]
  },
  {
   "cell_type": "code",
   "execution_count": null,
   "metadata": {},
   "outputs": [],
   "source": [
    "#Sum of three cubes\n",
    "k = int(input())\n",
    "if k % 9 == 4 or k % 9 == 5:\n",
    "  print(0, 0, 0)\n",
    "if pow(int(k ** (1/3)), 3) == k:\n",
    "  print(int(k ** (1/3)), 0 , 0)"
   ]
  },
  {
   "cell_type": "code",
   "execution_count": null,
   "metadata": {},
   "outputs": [],
   "source": [
    "#Goldbach conjecture\n",
    "def PrimeNumberArray(n):\n",
    "  array = []\n",
    "  for i in range (0, 2):\n",
    "    array.append(False)\n",
    "  for i in range (2, n + 1):\n",
    "    array.append(True)\n",
    "  for i in range (2, n + 1):\n",
    "    if array[i] == True:\n",
    "      j = 2 * i\n",
    "      while j <= n:\n",
    "        array[j] = False\n",
    "        j += i\n",
    "  return array\n",
    "  \n",
    "n = int(input())\n",
    "array = PrimeNumberArray(n)\n",
    "count = 0\n",
    "for i in range(int(n / 2) + 1):\n",
    "  if array[i] and array[n - i]:\n",
    "    count += 1\n",
    "\n",
    "print(count)"
   ]
  },
  {
   "cell_type": "code",
   "execution_count": 2,
   "metadata": {},
   "outputs": [
    {
     "output_type": "stream",
     "name": "stdout",
     "text": [
      "()()()()\n()()(())\n()(())()\n()(()())\n()((()))\n(())()()\n(())(())\n(()())()\n(()()())\n(()(()))\n((()))()\n((())())\n((()()))\n(((())))\n"
     ]
    }
   ],
   "source": [
    "#Dấu ngoặc \n",
    "\n",
    "def AllBracketsBalance(str, left, right):\n",
    "    if right == 0:\n",
    "        for i in str:\n",
    "            print(i, end = '')\n",
    "        print()\n",
    "    else:\n",
    "        if left < right:\n",
    "            AllBracketsBalance(str + ')', left, right - 1)\n",
    "        if left > 0:\n",
    "            AllBracketsBalance(str + '(', left - 1, right)\n",
    "        \n",
    "\n",
    "n = int(input())\n",
    "A = ''\n",
    "if n > 0:\n",
    "    AllBracketsBalance(A, n, n)\n"
   ]
  },
  {
   "cell_type": "code",
   "execution_count": null,
   "metadata": {},
   "outputs": [],
   "source": [
    "#Địa chỉ IP\n",
    "str = input()\n",
    "l = len(str)\n",
    "\n",
    "def check(str):\n",
    "  arr = str.split('.')\n",
    "  for i in arr:\n",
    "    if int(i) > 255 or (i[0] == '0' and len(i) > 1):\n",
    "      return False\n",
    "  return True\n",
    "\n",
    "def checkPossible(l, turn):\n",
    "  if l <= turn * 3 and l >= turn:\n",
    "    return True\n",
    "  return False\n",
    "  \n",
    "def maxRange(l, turn):\n",
    "  if l - turn >= 0:\n",
    "    if l - turn < 3:\n",
    "      return l - turn\n",
    "    return 3\n",
    "  return 0\n",
    "if(checkPossible(l, 4)):\n",
    "  for i in range(maxRange(l, 4) + 1):\n",
    "    if(checkPossible(l - i - 1, 3)):\n",
    "      for j in range(i + 1, i + maxRange(l - i, 3) + 1):\n",
    "        if(checkPossible(l - j - 1, 2)):\n",
    "          for k in range(j + 1, j + maxRange(l - j, 2) + 1):\n",
    "              if checkPossible(l - k - 1, 1):\n",
    "                result = str[0 : i + 1] + \".\" + str[i + 1 : j + 1] + \".\" + str[j + 1 : k + 1] + \".\" + str[k + 1 : len(str)]\n",
    "                if check(result):\n",
    "                  print(result)"
   ]
  },
  {
   "cell_type": "code",
   "execution_count": null,
   "metadata": {},
   "outputs": [],
   "source": [
    "#Chuỗi con\n",
    "\n",
    "str = input()\n",
    "allPalPartitions(str) \n",
    "\n",
    "\n",
    "def isPalindrome(string, low, high): \n",
    "\twhile low < high: \n",
    "\t\tif string[low] != string[high]: \n",
    "\t\t\treturn False\n",
    "\t\tlow += 1\n",
    "\t\thigh -= 1\n",
    "\treturn True\n",
    "\n",
    "\n",
    "def allPalPartUtil(allPart, currPart, start, n, str): \n",
    "\tif start >= n: \n",
    "\t\tx = currPart.copy()\n",
    "\t\tallPart.append(x) \n",
    "\t\treturn\n",
    "\tfor i in range(start, n): \n",
    "\t\tif isPalindrome(string, start, i): \n",
    "\t\t\tcurrPart.append(string[start:i + 1]) \n",
    "\t\t\tallPalPartUtil(allPart, currPart, i + 1, n, string) \n",
    "\t\t\tcurrPart.pop() \n",
    "\n",
    "def allPalPartitions(str): \n",
    "\tn = len(str) \n",
    "\tallPart = [] \n",
    "\tcurrPart = [] \n",
    "\tallPalPartUtil(allPart, currPart, 0, n, str) \n",
    "\tfor i in range(len(allPart)): \n",
    "\t\tfor j in range(len(allPart[i])): \n",
    "\t\t\tprint(allPart[i][j], end = \" \") \n",
    "\t\tprint() \n"
   ]
  },
  {
   "cell_type": "code",
   "execution_count": 5,
   "metadata": {
    "tags": []
   },
   "outputs": [
    {
     "output_type": "stream",
     "name": "stdout",
     "text": [
      "7.25 10 10 \n7.5 10 10 \n7.75 9.75 10 \n8 9.5 10 \n8 9.75 10 \n8 10 9.75 \n8.25 9.5 10 \n8.25 9.75 9.75 \n8.25 10 9.75 \n8.5 9.25 10 \n8.5 9.75 9.75 \n8.5 10 9.5 \n8.75 9 10 \n8.75 9.25 10 \n8.75 9.5 9.75 \n8.75 10 9.5 \n9 9 10 \n9 9.25 9.75 \n9 9.5 9.75 \n9 9.75 9.5 \n9.25 8.75 10 \n9.25 9.25 9.75 \n9.25 9.5 9.5 \n9.25 9.75 9.5 \n9.25 10 9.25 \n9.5 8.5 10 \n9.5 8.75 10 \n9.5 9 9.75 \n9.5 9.5 9.5 \n9.5 9.75 9.25 \n9.5 10 9.25 \n9.75 8.5 10 \n9.75 8.75 9.75 \n9.75 9 9.75 \n9.75 9.25 9.5 \n9.75 9.75 9.25 \n9.75 10 9 \n10 8.25 10 \n10 8.75 9.75 \n10 9 9.5 \n10 9.25 9.5 \n10 9.5 9.25 \n10 10 9 \n"
     ]
    }
   ],
   "source": [
    "#Nhập điểm\n",
    "\n",
    "def outputPossibleMark(n, rate, result, partMark, pos, pastMark, pastRate, allMarks):\n",
    "    if pos == len(rate):\n",
    "        for i in partMark:\n",
    "            if i - int(i) == 0:\n",
    "                print(int(i), end = \" \")\n",
    "            else:\n",
    "                print(i, end = \" \")\n",
    "        print()\n",
    "    else:\n",
    "        for i in allMarks:\n",
    "            partMark[pos] = i\n",
    "            currentPoints = pastMark + i * rate[pos]\n",
    "            currentRate = pastRate + rate[pos]\n",
    "            maxMark = currentPoints + 10 * (1 - currentRate)\n",
    "            minMark = currentPoints + 0.25 * (1 - currentRate)\n",
    "            if round(maxMark + 0.001, 1) < result or round(minMark + 0.001, 1) > result:\n",
    "                continue\n",
    "            else:\n",
    "                outputPossibleMark(n, rate, result, partMark, pos + 1, currentPoints, currentRate, allMarks)\n",
    "\n",
    "\n",
    "allMarks = [0.25, 0.5, 0.75, 1.0, 1.25, 1.5, 1.75, 2.0, 2.25, 2.5, 2.75, 3.0, 3.25, 3.5, 3.75, 4.0, 4.25, 4.5, 4.75, 5.0, 5.25, 5.5, 5.75, 6.0, 6.25, 6.5, 6.75, 7.0, 7.25, 7.5, 7.75, 8.0, 8.25, 8.5, 8.75, 9.0, 9.25, 9.5, 9.75, 10.0]\n",
    "n = int(input())\n",
    "rate = []\n",
    "for i in range (n):\n",
    "    rate.append(int(input()) / 100)\n",
    "result = float(input())\n",
    "partMark = [0 for i in rate]\n",
    "outputPossibleMark(n, rate, result, partMark, 0, 0, 0, allMarks)"
   ]
  },
  {
   "cell_type": "code",
   "execution_count": null,
   "metadata": {},
   "outputs": [],
   "source": [
    "#Ô chữ\n",
    "\n"
   ]
  },
  {
   "cell_type": "code",
   "execution_count": 5,
   "metadata": {},
   "outputs": [
    {
     "output_type": "error",
     "ename": "IndentationError",
     "evalue": "unindent does not match any outer indentation level (<tokenize>, line 10)",
     "traceback": [
      "\u001b[0;36m  File \u001b[0;32m\"<tokenize>\"\u001b[0;36m, line \u001b[0;32m10\u001b[0m\n\u001b[0;31m    print(curr_y)\u001b[0m\n\u001b[0m    ^\u001b[0m\n\u001b[0;31mIndentationError\u001b[0m\u001b[0;31m:\u001b[0m unindent does not match any outer indentation level\n"
     ]
    }
   ],
   "source": [
    "def isSafe(x, y, board):\n",
    "  if(x >= 0 and y >= 0 and x < len(board) and y < len(board[0]) and board[x][y] == False):\n",
    "    return True\n",
    "  return False\n",
    "\n",
    "def solveKT(n ,m, curr_x, curr_y, move, result):\n",
    "\tboard = [[False for j in range(m)]for i in range(n)]\n",
    "\tboard[curr_x][curr_y] = True\n",
    "\tsolveKTUtil(board, curr_x, curr_y, move, result)\n",
    "\n",
    "def solveKTUtil(board, curr_x, curr_y, move, result):\n",
    "  for i in move:\n",
    "    new_x = curr_x + i[0]\n",
    "    new_y = curr_y + i[1]\n",
    "    if (isSafe(new_x, new_y, board)):\n",
    "      string = \"\" + chr(97 + new_y) + chr(ord('1') + new_x)\n",
    "      result.append(string)\n",
    "      board[new_x][new_y] = True\n",
    "      if (solveKTUtil(board, new_x, new_y, move, result)):\n",
    "        return True\n",
    "      board[new_x][new_y] = -1\n",
    "      return False\n",
    "\n",
    "\t\n",
    "n = int(input())\n",
    "m = int(input())\n",
    "str = input()\n",
    "result = []\n",
    "curr_y = int(ord(str[0]) - ord('a'))\n",
    "print(curr_y)\n",
    "print(\"+++++++++++\")\n",
    "curr_x = int(str[1])\n",
    "move = [[-1,2], [1,2], [2,1], [2,-1], [1,-2], [-1,-2], [-2, -1], [-2, 1]]\n",
    "solveKT(n, m, curr_x, curr_y, move, result)\n",
    "print(str, end = \" \")\n",
    "for i in range (len(result) - 1, -1, -1):\n",
    "  print(result[i], end = \" \")\n",
    "\n",
    "\n",
    "\n"
   ]
  },
  {
   "cell_type": "code",
   "execution_count": null,
   "metadata": {},
   "outputs": [],
   "source": []
  }
 ]
}